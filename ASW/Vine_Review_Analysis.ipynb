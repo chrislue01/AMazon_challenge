{
 "cells": [
  {
   "cell_type": "code",
   "execution_count": null,
   "id": "0722ec6b",
   "metadata": {},
   "outputs": [],
   "source": [
    "import os\n",
    "# Find the latest version of spark 2.0  from http://www-us.apache.org/dist/spark/ and enter as the spark version\n",
    "# For example:\n",
    "# spark_version = 'spark-3.0.0'\n",
    "spark_version = 'spark-3.0.1'\n",
    "os.environ['SPARK_VERSION']=spark_version\n",
    "\n",
    "# Install Spark and Java\n",
    "!apt-get update\n",
    "!apt-get install openjdk-11-jdk-headless -qq > /dev/null\n",
    "!wget -q http://www-us.apache.org/dist/spark/$SPARK_VERSION/$SPARK_VERSION-bin-hadoop2.7.tgz\n",
    "!tar xf $SPARK_VERSION-bin-hadoop2.7.tgz\n",
    "!pip install -q findspark\n",
    "\n",
    "# Set Environment Variables\n",
    "import os\n",
    "os.environ[\"JAVA_HOME\"] = \"/usr/lib/jvm/java-11-openjdk-amd64\"\n",
    "os.environ[\"SPARK_HOME\"] = f\"/content/{spark_version}-bin-hadoop2.7\"\n",
    "\n",
    "# Start a SparkSession\n",
    "import findspark\n",
    "findspark.init()"
   ]
  },
  {
   "cell_type": "code",
   "execution_count": null,
   "id": "8ea48aad",
   "metadata": {},
   "outputs": [],
   "source": [
    "# Start Spark session\n",
    "from pyspark.sql import SparkSession\n",
    "spark = SparkSession.builder.appName(\"VineReviewAnalysis\").getOrCreate()\n"
   ]
  },
  {
   "cell_type": "code",
   "execution_count": null,
   "id": "9fd55986",
   "metadata": {},
   "outputs": [],
   "source": [
    "\n",
    "# There is a DataFrame or table for the vine_table data using one of three methods above\n",
    "from pyspark import SparkFiles\n",
    "url = \"https://s3.amazonaws.com/amazon-reviews-pds/tsv/amazon_reviews_us_Video_Games_v1_00.tsv.gz\"\n",
    "spark.sparkContext.addFile(url)\n",
    "video_games_df = spark.read.option(\"encoding\", \"UTF-8\").csv(SparkFiles.get(\"amazon_reviews_us_Video_Games_v1_00.tsv.gz\"), sep=\"\\t\", header=True, inferSchema=True)\n",
    "\n",
    "# Row Count\n",
    "video_games_df.count()"
   ]
  },
  {
   "cell_type": "code",
   "execution_count": null,
   "id": "2fe423fb",
   "metadata": {},
   "outputs": [],
   "source": [
    "from pyspark.sql.functions import col, avg\n",
    "\n",
    "# Filter by voters.\n",
    "filtered_video_games_df = video_games_df.select([\"review_id\", \"star_rating\", \"helpful_votes\", \"total_votes\", \"vine\", \"verified_purchase\"])\n",
    "filtered_video_games_df.show(10)"
   ]
  },
  {
   "cell_type": "code",
   "execution_count": null,
   "id": "d185c65e",
   "metadata": {},
   "outputs": [],
   "source": [
    "# The data is filtered to create a DataFrame or table where there are 20 or more total votes (5 pt)\n",
    "greater_than_twenty_df = filtered_video_games_df.filter(filtered_video_games_df['total_votes'] >= 20)\n",
    "greater_than_twenty_df.show(10)"
   ]
  },
  {
   "cell_type": "code",
   "execution_count": null,
   "id": "0c9762fe",
   "metadata": {},
   "outputs": [],
   "source": [
    "# The data is filtered to create a DataFrame or table where the percentage of helpful_votes is equal to or greater than 50% (5 pt)\n",
    "fifty_percent_cut_df = greater_than_twenty_df.filter(greater_than_twenty_df[\"helpful_votes\"]/greater_than_twenty_df[\"total_votes\"] >= 0.5)\n",
    "fifty_percent_cut_df.show(10)"
   ]
  },
  {
   "cell_type": "code",
   "execution_count": null,
   "id": "81385413",
   "metadata": {},
   "outputs": [],
   "source": [
    "# The data is filtered to create a DataFrame or table where there is a Vine review (5 pt)\n",
    "vine_review_df = fifty_percent_cut_df.filter(fifty_percent_cut_df['vine']== 'Y')\n",
    "vine_review_df.show(10)"
   ]
  },
  {
   "cell_type": "code",
   "execution_count": null,
   "id": "e68873a8",
   "metadata": {},
   "outputs": [],
   "source": [
    "# The data is filtered to create a DataFrame or table where there isn’t a Vine review (5 pt)\n",
    "no_vine_review_df = fifty_percent_cut_df.filter(fifty_percent_cut_df['vine']== 'N')\n",
    "no_vine_review_df.show(10)"
   ]
  },
  {
   "cell_type": "code",
   "execution_count": null,
   "id": "cdc5b6d1",
   "metadata": {},
   "outputs": [],
   "source": [
    "# The total number of reviews, the number of 5-star reviews, and the percentage 5-star reviews are calculated for all Vine and non-Vine reviews (15 pt)\n",
    "\n",
    "# Determine the percentage of five-star reviews among Vine reviews\n",
    "vine_number = vine_review_df.count()\n",
    "vine_five_star_number = vine_review_df.filter(vine_review_df['star_rating']== 5).count()\n",
    "percentage_five_star_vine = float(vine_five_star_number) / float(vine_number)\n",
    "print(vine_number)\n",
    "print(vine_five_star_number)\n",
    "print(percentage_five_star_vine)\n",
    "\n",
    "# Determine the percentage of five-star reviews among non-Vine reviews.\n",
    "no_vine_number = no_vine_review_df.count()\n",
    "no_vine_five_star_number = no_vine_review_df.filter(no_vine_review_df['star_rating']== 5).count()\n",
    "percentage_five_star_no_vine = float(no_vine_five_star_number) / float(no_vine_number)\n",
    "print(no_vine_number)\n",
    "print(no_vine_five_star_number)\n",
    "print(percentage_five_star_no_vine)\n",
    "\n",
    "# Total amount of reviews\n",
    "print(vine_number + no_vine_number)"
   ]
  }
 ],
 "metadata": {
  "kernelspec": {
   "display_name": "Python 3 (ipykernel)",
   "language": "python",
   "name": "python3"
  },
  "language_info": {
   "codemirror_mode": {
    "name": "ipython",
    "version": 3
   },
   "file_extension": ".py",
   "mimetype": "text/x-python",
   "name": "python",
   "nbconvert_exporter": "python",
   "pygments_lexer": "ipython3",
   "version": "3.9.7"
  }
 },
 "nbformat": 4,
 "nbformat_minor": 5
}
